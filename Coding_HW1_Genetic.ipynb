{
 "cells": [
  {
   "cell_type": "markdown",
   "metadata": {
    "id": "A1OybKTlDeNV"
   },
   "source": [
    "# Travelling Salesman Problem!\n",
    "\n",
    "Welcome to the assignment **#1** related to **Coding Homeworks** section of the **Artificial Intelligence** course at **Shahid Beheshti University**! ([Course repository link](https://github.com/SBU-CE/Artificial-Intelligence)).\n",
    "\n",
    "In this notebook, you will:\n",
    "\n",
    "*   Roll up your sleeves and start writing codes in **python**\n",
    "*   Implement Travel Salesman solution calculator using **Genetic Algorithm**\n",
    "\n",
    "\n",
    "The traveling salesman problem (also called the travelling salesperson problem or TSP) asks the following question: \"Given a *list of cities* and the *distances* between each pair of cities, what is *the shortest possible route* that visits each city exactly once and returns to the origin city?\" It is an NP-hard problem in combinatorial optimization, important in theoretical computer science and operations research."
   ]
  },
  {
   "cell_type": "code",
   "execution_count": null,
   "metadata": {
    "id": "-GcrdczHyqJN"
   },
   "outputs": [],
   "source": [
    "import numpy as np\n",
    "import matplotlib.pyplot as plt\n",
    "import random\n",
    "\n",
    "#utils\n",
    "from utils import create_cities, show_cities, plot_talesman_route"
   ]
  },
  {
   "cell_type": "markdown",
   "metadata": {
    "id": "Cd4uI3TME2rg"
   },
   "source": [
    "## Initial Population"
   ]
  },
  {
   "cell_type": "markdown",
   "metadata": {
    "id": "RBXljcGCGKZT"
   },
   "source": [
    "### Individual\n",
    "\n",
    "An **individual** is characterized by a set of parameters (variables) known as Genes. In this problem **genes** are cities that each of them contains `x` and `y` attribute, each **individual** is a permutation of cities that shows the route to the talesman.\n",
    "\n",
    "First you should implement `distance` function using Euclidean distance formula.\n",
    "\n",
    "$\\begin{gather*}\n",
    "d=\\sqrt{( x_{2} -x_{1})^{2} +( y_{2} -y_{1})^{2}}\n",
    "\\end{gather*}$\n"
   ]
  },
  {
   "cell_type": "code",
   "execution_count": null,
   "metadata": {
    "id": "i5J-Nvd75fk-"
   },
   "outputs": [],
   "source": [
    "class City:\n",
    "    def __init__(self, x, y):\n",
    "        self.x = x\n",
    "        self.y = y\n",
    "    \n",
    "    def distance(self, city):\n",
    "        ### START CODE HERE ### (≈3 lines)\n",
    "        # Calculate Euclidean distance\n",
    "\n",
    "        ### END CODE HERE ###\n",
    "        return distance\n",
    "    \n",
    "    def __repr__(self):\n",
    "        return \"(\" + str(self.x) + \",\" + str(self.y) + \")\""
   ]
  },
  {
   "cell_type": "code",
   "execution_count": null,
   "metadata": {
    "colab": {
     "base_uri": "https://localhost:8080/"
    },
    "id": "8WavlvzRxOlK",
    "outputId": "a12b0925-e9c0-4eb5-e7a5-9dedb96e1895"
   },
   "outputs": [],
   "source": [
    "city1 = City(1, 1)\n",
    "city2 = City(7, 8)\n",
    "print(f'Distance : {city1.distance(city2)}')"
   ]
  },
  {
   "cell_type": "markdown",
   "metadata": {
    "id": "D-W8QdBEzRls"
   },
   "source": [
    "**Expected Output**\n",
    "<table>\n",
    "    <tr>\n",
    "    <td>\n",
    "        Distance : 9.219544457292887\n",
    "    </td>\n",
    "    </tr>\n",
    "</table>"
   ]
  },
  {
   "cell_type": "markdown",
   "metadata": {
    "id": "NWcKewAP0i2a"
   },
   "source": [
    "`create_cities` function returns cities of our world."
   ]
  },
  {
   "cell_type": "code",
   "execution_count": null,
   "metadata": {
    "colab": {
     "base_uri": "https://localhost:8080/"
    },
    "id": "oN5B__r0v9hc",
    "outputId": "8756817f-c538-493c-f409-68aa92bf7859"
   },
   "outputs": [],
   "source": [
    "city_list = create_cities()\n",
    "\n",
    "print(f'Cities of our world are : {city_list}')"
   ]
  },
  {
   "cell_type": "markdown",
   "metadata": {
    "id": "LFHj1Xac0wMB"
   },
   "source": [
    "Now you can see the cities of our world!"
   ]
  },
  {
   "cell_type": "code",
   "execution_count": null,
   "metadata": {
    "colab": {
     "base_uri": "https://localhost:8080/",
     "height": 269
    },
    "id": "l9dXgF_v05w_",
    "outputId": "db9c9de4-840e-4eb7-fc41-ad7d4ffac66c"
   },
   "outputs": [],
   "source": [
    "show_cities(city_list)"
   ]
  },
  {
   "cell_type": "markdown",
   "metadata": {
    "id": "v1M4rCSz_KQU"
   },
   "source": [
    "`create_route` function creates a route () that travels `n` cities by shuffling city_list. **city_list** is the individual and it's list of cities. Its *order* shows the travel salesman, how to travel between cities. You should implement this function by using `random.sample` function."
   ]
  },
  {
   "cell_type": "code",
   "execution_count": null,
   "metadata": {
    "id": "bHSg8TRD5iwp"
   },
   "outputs": [],
   "source": [
    "def create_route(city_list):\n",
    "    ### START CODE HERE ### (≈1 lines)\n",
    "    \n",
    "    ### END CODE HERE ###\n",
    "    return route"
   ]
  },
  {
   "cell_type": "code",
   "execution_count": null,
   "metadata": {
    "colab": {
     "base_uri": "https://localhost:8080/",
     "height": 269
    },
    "id": "B_5S2ilb51vz",
    "outputId": "f37ee465-e22c-4545-e367-12dd7b9c8521"
   },
   "outputs": [],
   "source": [
    "city_list = create_route(city_list)\n",
    "\n",
    "# plot the route\n",
    "plot_talesman_route(city_list)"
   ]
  },
  {
   "cell_type": "markdown",
   "metadata": {
    "id": "M5UyFlkuNrhj"
   },
   "source": [
    "### Population\n",
    "\n",
    "The process of genetic algorithm begins with a set of individuals which is called a Population. You should initialize population by implement `initial_population` function using `create_route` function"
   ]
  },
  {
   "cell_type": "code",
   "execution_count": null,
   "metadata": {
    "id": "I3wDMPsE5kjW"
   },
   "outputs": [],
   "source": [
    "def initial_population(population_size, city_list):\n",
    "    population = []\n",
    "    ### START CODE HERE ### (≈2 lines)\n",
    "\n",
    "    ### END CODE HERE ###\n",
    "    return population"
   ]
  },
  {
   "cell_type": "code",
   "execution_count": null,
   "metadata": {
    "colab": {
     "base_uri": "https://localhost:8080/"
    },
    "id": "5Z202fZZKd8B",
    "outputId": "79ba3a06-e27d-4eaa-d796-142014a4b84c"
   },
   "outputs": [],
   "source": [
    "sample_generation = initial_population(5, city_list)\n",
    "\n",
    "for i in range(len(sample_generation)):\n",
    "    print(f'individual{i} : {sample_generation[i]}')"
   ]
  },
  {
   "cell_type": "markdown",
   "metadata": {
    "id": "miSBh1MYCQOy"
   },
   "source": [
    "## Fitness Function\n",
    "\n",
    "The fitness function determines how fit an individual is. You should give a **fitness score** to each individual. The probability that an individual will be selected for reproduction is based on its fitness score.\n",
    "\n",
    "In this problem, fitness is based on the distance traveled on chosen route. The more distance, the lower fitness it is.\n",
    "First you should implement `route_distance` function using `City.distance` function. Then complete `route_fitness` function using below equation.\n",
    "\n",
    "\n",
    "$\\begin{gather*}\n",
    "\\mathrm{fitness} = \\frac{1}{\\mathrm{distance}}\n",
    "\\end{gather*}$"
   ]
  },
  {
   "cell_type": "code",
   "execution_count": null,
   "metadata": {
    "id": "Ga-defIS5hY9"
   },
   "outputs": [],
   "source": [
    "def route_distance(route):\n",
    "    path_distance = 0\n",
    "    ### START CODE HERE ###\n",
    "\n",
    "    ### END CODE HERE ###\n",
    "    return path_distance"
   ]
  },
  {
   "cell_type": "code",
   "execution_count": null,
   "metadata": {
    "id": "JWKP1rDzkjfB"
   },
   "outputs": [],
   "source": [
    "def route_fitness(route):\n",
    "    ### START CODE HERE ### (≈1 lines)\n",
    "    fitness = \n",
    "    ### END CODE HERE ###\n",
    "    return fitness"
   ]
  },
  {
   "cell_type": "code",
   "execution_count": null,
   "metadata": {
    "colab": {
     "base_uri": "https://localhost:8080/"
    },
    "id": "zjb_xeF6xiD_",
    "outputId": "f873c442-0f2c-4fdb-9794-b270f7624c05"
   },
   "outputs": [],
   "source": [
    "print(f'Sample individual distance : {route_distance(city_list)}')\n",
    "print(f'Sample individual fitness : {route_fitness(city_list)}')"
   ]
  },
  {
   "cell_type": "markdown",
   "metadata": {
    "id": "rNruL0aGFGjb"
   },
   "source": [
    "## Selection"
   ]
  },
  {
   "cell_type": "markdown",
   "metadata": {
    "id": "sP6EY0BkFQqN"
   },
   "source": [
    "The idea of selection phase is to select the fittest individuals and let them pass their genes to the next generation. You should implement rank_routes function to sort individuals (routes) in the generation by their fitness.\n",
    "\n",
    "You can use python built-in function `sorted()` with `key = lambda x: route_fitness(x)` argument."
   ]
  },
  {
   "cell_type": "code",
   "execution_count": null,
   "metadata": {
    "colab": {
     "base_uri": "https://localhost:8080/"
    },
    "id": "8NGfF18n5mNb",
    "outputId": "cb5b574b-a4c2-495d-bce7-0706f0e2ae87"
   },
   "outputs": [],
   "source": [
    "def rank_routes(generation):\n",
    "    ### START CODE HERE ###\n",
    "    sorted_generation = \n",
    "    ### END CODE HERE ###\n",
    "    return sorted_generation\n",
    "\n",
    "print(route_fitness(rank_routes(sample_generation)[0]))\n",
    "print(route_fitness(rank_routes(sample_generation)[1]))"
   ]
  },
  {
   "cell_type": "markdown",
   "metadata": {
    "id": "TAjMzcAZG146"
   },
   "source": [
    "Read about **elite individuals** in genetic algorithm, then implement below function using implemented `rank_routes` function. It returns selected individuals (routes), in future we will use them in mating pool."
   ]
  },
  {
   "cell_type": "code",
   "execution_count": null,
   "metadata": {
    "id": "Qs0b-FcX5n9g"
   },
   "outputs": [],
   "source": [
    "def selection(generation, elite_size):\n",
    "    selection_results = []\n",
    "    ### START CODE HERE ###\n",
    "\n",
    "    ### END CODE HERE ###\n",
    "    return selection_results"
   ]
  },
  {
   "cell_type": "code",
   "execution_count": null,
   "metadata": {
    "colab": {
     "base_uri": "https://localhost:8080/"
    },
    "id": "4YfPIdQcKSql",
    "outputId": "66ffe6ed-682a-4096-beef-f202486bd030"
   },
   "outputs": [],
   "source": [
    "mating_pool = selection(sample_generation, 2)\n",
    "for i in range(len(mating_pool)):\n",
    "    print(f'selected{i} : {mating_pool[i]}')"
   ]
  },
  {
   "cell_type": "markdown",
   "metadata": {
    "id": "C5F6pkIfM0CW"
   },
   "source": [
    "## Crossover\n",
    "\n",
    "Crossover is the most significant phase in a genetic algorithm. Implement crossover function based on your opinion."
   ]
  },
  {
   "cell_type": "code",
   "execution_count": null,
   "metadata": {
    "colab": {
     "base_uri": "https://localhost:8080/"
    },
    "id": "QQHQGdi25svg",
    "outputId": "5d27c152-87ab-443f-a5c4-f22cef044912"
   },
   "outputs": [],
   "source": [
    "def crossover(parent1, parent2):\n",
    "    child = []\n",
    "    ### START CODE HERE ###\n",
    "\n",
    "    ### END CODE HERE ###\n",
    "    return child\n",
    "\n",
    "city_list_sample_crossover = create_cities(10)\n",
    "population_sample_crossover = initial_population(5, city_list_sample_crossover)\n",
    "parent1_sample_crossover = population_sample_crossover[0]\n",
    "parent2_sample_crossover = population_sample_crossover[1]\n",
    "child_sample_crossover = crossover(parent1_sample_crossover, parent2_sample_crossover)\n",
    "print(f'parent1 : {parent1_sample_crossover}')\n",
    "print(f'parent2 : {parent2_sample_crossover}')\n",
    "print(f'Their child : {child_sample_crossover}')"
   ]
  },
  {
   "cell_type": "markdown",
   "metadata": {
    "id": "uXDWkEgnSFmL"
   },
   "source": [
    "Now use implemented `crossover` function to crossover your generation. Selecting parents are based on your opinion too!\n",
    "\n",
    "Remember that population size of the generations must be the same."
   ]
  },
  {
   "cell_type": "code",
   "execution_count": null,
   "metadata": {
    "id": "hCqxsITc5ugd"
   },
   "outputs": [],
   "source": [
    "def crossover_generation(mating_pool, eliteSize):\n",
    "    children = []\n",
    "    ### START CODE HERE ###\n",
    "\n",
    "    ### END CODE HERE ###\n",
    "    return children"
   ]
  },
  {
   "cell_type": "markdown",
   "metadata": {
    "id": "qKvKbl8CUlxN"
   },
   "source": [
    "## Mutation\n",
    "\n",
    "Mutation occurs to maintain diversity within the population and prevent premature convergence. You should implement mutate by swapping order of two cities of selected individual (routes)."
   ]
  },
  {
   "cell_type": "code",
   "execution_count": null,
   "metadata": {
    "colab": {
     "base_uri": "https://localhost:8080/"
    },
    "id": "YdKpo8M_5wH4",
    "outputId": "05942ce1-819c-4c90-e399-cf818bb43cc9"
   },
   "outputs": [],
   "source": [
    "def mutate(individual, mutation_rate):\n",
    "    ### START CODE HERE ###\n",
    "\n",
    "    ### END CODE HERE ###\n",
    "    return individual\n",
    "\n",
    "print(f'before mutation : {child_sample_crossover}')\n",
    "print(f'after mutation : {mutate(child_sample_crossover, 0.5)}')"
   ]
  },
  {
   "cell_type": "markdown",
   "metadata": {
    "id": "ijXm98NtVb8Q"
   },
   "source": [
    "Now use implemented `mutate` function to mutate individuals in given generation. "
   ]
  },
  {
   "cell_type": "code",
   "execution_count": null,
   "metadata": {
    "id": "Yh_tsnZf5xp8"
   },
   "outputs": [],
   "source": [
    "def mutate_population(population, mutation_rate):\n",
    "    mutated_generation = []\n",
    "    ### START CODE HERE ###\n",
    "\n",
    "    ### END CODE HERE ###\n",
    "    return mutated_generation"
   ]
  },
  {
   "cell_type": "markdown",
   "metadata": {
    "id": "FrECWeNubNL7"
   },
   "source": [
    "## All Together\n",
    "\n",
    "Now you should implement `next_generation` function to calculate next generation by getting `current_generation`, `elite_size` and `mutation_rate` as inputs. Use implemented functions `rank_routes`, `selection`, `crossover_generation` and `mutate_population`."
   ]
  },
  {
   "cell_type": "code",
   "execution_count": null,
   "metadata": {
    "id": "J9jWJ47n5y_P"
   },
   "outputs": [],
   "source": [
    "def next_generation(current_generation, elite_size, mutation_rate):\n",
    "    ### START CODE HERE ###\n",
    "\n",
    "    ### END CODE HERE ###\n",
    "    return nextGeneration"
   ]
  },
  {
   "cell_type": "markdown",
   "metadata": {
    "id": "nI8A7YA7yHVv"
   },
   "source": [
    "Implement genetic algorithm using implemented functions `initial_population`, `rank_routes`, `route_distance` and `next_generation`."
   ]
  },
  {
   "cell_type": "code",
   "execution_count": null,
   "metadata": {
    "id": "PFG0DJGF50Tr"
   },
   "outputs": [],
   "source": [
    "def genetic_algorithm(cities, population_size, elite_size, mutation_rate, generations, verbosity=3):\n",
    "    ### START CODE HERE ###\n",
    "    generation = \n",
    "    ### END CODE HERE ###\n",
    "\n",
    "    if verbosity > 0:\n",
    "        initial_route = rank_routes(generation)[0]\n",
    "        print(f'Initial distance: {route_distance(initial_route)}')\n",
    "    progress = []\n",
    "\n",
    "    ### START CODE HERE ###\n",
    "    # Generation loop\n",
    "\n",
    "    ### END CODE HERE ###\n",
    "\n",
    "    best_route = rank_routes(generation)[0]\n",
    "\n",
    "    if verbosity > 0:\n",
    "        print(f'Final distance: {route_distance(best_route)}')\n",
    "\n",
    "\n",
    "    if verbosity > 1:\n",
    "        plt.plot(progress)\n",
    "        plt.ylabel('Distance')\n",
    "        plt.xlabel('Generation')\n",
    "        plt.show()\n",
    "    \n",
    "    if verbosity > 2:\n",
    "        plot_talesman_route(initial_route, 'Initial Route')\n",
    "        plot_talesman_route(best_route, 'Best Route')\n",
    "\n",
    "    return best_route"
   ]
  },
  {
   "cell_type": "markdown",
   "metadata": {
    "id": "R4hPbVG816WQ"
   },
   "source": [
    "Feel free to change paramters!"
   ]
  },
  {
   "cell_type": "code",
   "execution_count": null,
   "metadata": {
    "colab": {
     "base_uri": "https://localhost:8080/",
     "height": 841
    },
    "id": "Lw_RqB7o53dI",
    "outputId": "fe01abc7-44e7-40bb-d064-9f040865c4d7"
   },
   "outputs": [],
   "source": [
    "best_route = genetic_algorithm(cities=city_list, population_size=100, elite_size=20, mutation_rate=0.01, generations=500)"
   ]
  }
 ],
 "metadata": {
  "colab": {
   "collapsed_sections": [],
   "name": "Coding-HW1-Genetic.ipynb",
   "provenance": []
  },
  "interpreter": {
   "hash": "878e0274925a0a66bbee6b6a87184cff5bd5f4f239b03ae5b2e2a82397258fee"
  },
  "kernelspec": {
   "display_name": "Python 3",
   "language": "python",
   "name": "python3"
  },
  "language_info": {
   "codemirror_mode": {
    "name": "ipython",
    "version": 3
   },
   "file_extension": ".py",
   "mimetype": "text/x-python",
   "name": "python",
   "nbconvert_exporter": "python",
   "pygments_lexer": "ipython3",
   "version": "3.8.3"
  }
 },
 "nbformat": 4,
 "nbformat_minor": 4
}
